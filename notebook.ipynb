{
 "cells": [
  {
   "attachments": {},
   "cell_type": "markdown",
   "metadata": {},
   "source": [
    "# Résolutions numériques d’équations\n",
    "\n",
    "La résolution d'équations polynomiales de degré est un problème courant en mathématiques et en sciences. Heureusement, il existe des formules analytiques pour résoudre ces types d'équations."
   ]
  },
  {
   "attachments": {},
   "cell_type": "markdown",
   "metadata": {},
   "source": [
    "### Résolution des équaitons de degré 1\n",
    "\n",
    "Une équation polynomiale de degré 1 est une équation de la forme\n",
    "\n",
    "$$ ax + b = 0 $$\n",
    "\n",
    "où `a` (sauf zero) et `b` sont des nombres réels et `x` est l'inconnue. Pour résoudre cette équation, on peut isoler `x` en soustrayant `b` de chaque côté de l'équation et en divisant par `a`:\n",
    "\n",
    "$$ x = \\frac{-b}{a} $$\n",
    "\n",
    "#### Example\n",
    "\n",
    "Ce courbe $ C $ est defini par:\n",
    "$$ y = -4x + 2 $$\n",
    "\n",
    "<div align=\"center\">\n",
    "<img src=\"https://github.com/asrinagirman/projet-annuel-2023/blob/main/assets/courbe_degre1.png?raw=true\" height=300>\n",
    "</div>\n",
    "\n",
    "Pour evaluer notre résolution on essaie:\n",
    "\n",
    "$$\n",
    "\\begin{align}\n",
    "-4(\\frac{2}{4}) + 2 = 0 \\\\\n",
    "-2 + 2 = 0 \\\\\n",
    "0 = 0\n",
    "\\end{align}\n",
    "$$\n",
    "\n",
    "Et voilà, l'équation est satisfaite. Cela prouve que notre solution proposée est correcte."
   ]
  },
  {
   "cell_type": "code",
   "execution_count": 9,
   "metadata": {},
   "outputs": [
    {
     "name": "stdout",
     "output_type": "stream",
     "text": [
      "(0.5, 0)\n"
     ]
    }
   ],
   "source": [
    "def resourde_degre1(a, b):\n",
    "     return (-b/a, 0)\n",
    "\n",
    "print(resourde_degre1(-4, 2))"
   ]
  },
  {
   "attachments": {},
   "cell_type": "markdown",
   "metadata": {},
   "source": [
    "<hr>\n",
    "\n",
    "### Résolution des équaitons de degré 2\n",
    "\n",
    "Une équation polynomiale de degré 2 est une équation de la forme\n",
    "\n",
    "$$ ax + bx + c = 0 $$\n",
    "\n",
    "où `a` (sauf zero), `b` et `c` sont des nombres réels et `x` est l'inconnue. Pour résoudre cette équation, on peut utiliser la formule quadratique:\n",
    "\n",
    "$$\n",
    "\\overbrace{\\Delta = b^2 - 4ac}^{\\text{Discriminant}} \\\\ \\space \\\\\n",
    "\n",
    "x = \\begin{cases}\n",
    "\\text{Pas de solution} & \\text{si } \\Delta < 0 \\\\\n",
    "\\frac{-b \\pm \\sqrt{\\Delta}}{2a} & \\text{si } \\Delta \\geq 0\n",
    "\\end{cases}\n",
    "\n",
    "$$\n",
    "\n",
    "Si le discriminant $ \\Delta $ est négatif, l'équation n'a pas de solution réelle."
   ]
  },
  {
   "cell_type": "code",
   "execution_count": 10,
   "metadata": {},
   "outputs": [
    {
     "name": "stdout",
     "output_type": "stream",
     "text": [
      "((-2.732050807568877, 0), (0.7320508075688772, 0))\n"
     ]
    }
   ],
   "source": [
    "def resourde_degre2(a, b, c):\n",
    "    delta = b**2 - (4 * a * c)\n",
    "\n",
    "    if (delta < 0):\n",
    "        return \"Pas de solution réelle\"\n",
    "    elif (delta == 0):\n",
    "        x = -b / (2 * a)\n",
    "        return (x, 0)\n",
    "    else:\n",
    "        x1 = (-b - delta**.5) / (2 * a)\n",
    "        x2 = (-b + delta**.5) / (2 * a)\n",
    "        \n",
    "        return (x1, 0), (x2, 0)\n",
    "\n",
    "print(resourde_degre2(1, 2, -2))"
   ]
  },
  {
   "attachments": {},
   "cell_type": "markdown",
   "metadata": {},
   "source": [
    "<hr>\n",
    "\n",
    "### Méthode de Newton\n",
    "\n",
    "La méthode de Newton est une méthode numérique pour trouver les racines (ou zéros) d'une fonction continue et dérivable. En d'autres termes, elle permet de trouver les valeurs de x pour lesquelles $ f(x) = 0 $, où $ f $ est une fonction continue et dérivable.\n",
    "\n",
    "Le principe de base de la méthode de Newton est d'approximer la fonction $ f(x) $ par une droite tangente à un point $ x_i $ sur la courbe de $ f(x) $. Cette droite tangente permet alors de trouver une estimation $ x_{i+1} $ de la racine en résolvant l'équation linéaire associée, donnée par $ f(x_i) + f'(x_i)(x_{i+1}-x_i) = 0 $, où $ f'(x_i) $ est la dérivée de $ f(x) $ évaluée en $ x_i $. En réarrangeant cette équation, on obtient l'itération suivante : $ x_{i+1} = x_i - \\frac{f(x_i)}{f'(x_i)} $. Ce processus est répété jusqu'à ce qu'une solution satisfaisante soit trouvée.\n",
    "\n",
    "#### Exemple\n",
    "\n",
    "Voici une animation de [Ralf Pfeifer](https://commons.wikimedia.org/wiki/File:NewtonIteration_Ani.gif) qui montre le processus d'iteration de la Méthode de Newton.\n",
    "\n",
    "<div align=\"center\">\n",
    "<img src=\"https://github.com/asrinagirman/projet-annuel-2023/blob/main/assets/NewtonIteration_Ani.gif?raw=true\" height=300>\n",
    "</div>\n",
    "\n",
    "Avec chaque iteration, on se rapproche de la racine."
   ]
  },
  {
   "cell_type": "code",
   "execution_count": 40,
   "metadata": {},
   "outputs": [
    {
     "name": "stdout",
     "output_type": "stream",
     "text": [
      "(-1.5878757839947477, 0)\n"
     ]
    }
   ],
   "source": [
    "# Ce exemple montre la Méthode de Newton sur un équation de troisième degré (précision de f(x) à 4 décimales)\n",
    "\n",
    "class Equation:\n",
    "    def __init__(self, a, b, c, d) -> None:\n",
    "        self.a = a\n",
    "        self.b = b\n",
    "        self.c = c\n",
    "        self.d = d\n",
    "    \n",
    "    def evaluer(self, x):\n",
    "        return self.a * x**3 + self.b * x**2 + self.c * x + self.d\n",
    "    \n",
    "    def evaluer_deriv(self, x):\n",
    "        return self.a * 3 * x**2 + self.b * 2 * x + self.c\n",
    "\n",
    "\n",
    "def rapprocher_avec_newton(a, b, c, d, nombre_iteration, x = 0):\n",
    "    eq = Equation(a, b, c, d)\n",
    "\n",
    "    for m in range(nombre_iteration):\n",
    "        pente_tangente = eq.evaluer_deriv(x)\n",
    "        valuer = eq.evaluer(x)\n",
    "\n",
    "        h = valuer / pente_tangente\n",
    "\n",
    "        if (pente_tangente != 0 and abs(h) >= 0.0001):\n",
    "            x = x - h\n",
    "        elif (abs(h) <= 0.0001):\n",
    "            return (x, 0)\n",
    "        else:\n",
    "            raise Exception(f\"Pas de solution trouvé: f'({x}) = 0\")\n",
    "\n",
    "print(rapprocher_avec_newton(4, 6, 7, 12, 1000))"
   ]
  },
  {
   "attachments": {},
   "cell_type": "markdown",
   "metadata": {},
   "source": [
    "## Bibliographie\n",
    "\n",
    "* Burden, R. L., & Faires, J. D. (2010). Numerical analysis (9th ed.). Brooks/Cole.\n",
    "* Gautschi, W. (2011). Numerical analysis (2nd ed.). Springer.\n",
    "* Kincaid, D., & Cheney, W. (2012). Numerical analysis: Mathematics of scientific computing (3rd ed.). American Mathematical Society.\n",
    "* Quarteroni, A., Sacco, R., & Saleri, F. (2010). Numerical mathematics (2nd ed.). Springer.\n",
    "* Stoer, J., & Bulirsch, R. (2013). Introduction to numerical analysis (3rd ed.). Springer.\n",
    "* Trefethen, L. N., & Bau, D. (1997). Numerical linear algebra. Society for Industrial and Applied Mathematics."
   ]
  }
 ],
 "metadata": {
  "kernelspec": {
   "display_name": "Python 3",
   "language": "python",
   "name": "python3"
  },
  "language_info": {
   "codemirror_mode": {
    "name": "ipython",
    "version": 3
   },
   "file_extension": ".py",
   "mimetype": "text/x-python",
   "name": "python",
   "nbconvert_exporter": "python",
   "pygments_lexer": "ipython3",
   "version": "3.9.13"
  },
  "orig_nbformat": 4
 },
 "nbformat": 4,
 "nbformat_minor": 2
}
